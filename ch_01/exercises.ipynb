{
 "cells": [
  {
   "cell_type": "markdown",
   "metadata": {},
   "source": [
    "# Coding exercises\n",
    "Exercises 1-3 are thought exercises that don't require coding. If you need a Python crash-course/refresher, work through the [`python_101.ipynb`](./python_101.ipynb) notebook in chapter 1.\n",
    "\n",
    "## Exercise 4: Generate the data by running this cell\n",
    "This will give you a list of numbers to work with in the remaining exercises."
   ]
  },
  {
   "cell_type": "code",
   "execution_count": null,
   "metadata": {},
   "outputs": [],
   "source": [
    "import random\n",
    "\n",
    "random.seed(0)\n",
    "salaries = [round(random.random()*1000000, -3) for _ in range(100)]\n",
    "print(salaries)"
   ]
  },
  {
   "cell_type": "markdown",
   "metadata": {},
   "source": [
    "## Exercise 5: Calculating statistics and verifying\n",
    "### mean"
   ]
  },
  {
   "cell_type": "code",
   "execution_count": null,
   "metadata": {},
   "outputs": [],
   "source": [
    "total = 0\n",
    "count = 0\n",
    "\n",
    "for i in salaries:\n",
    "    total = total + i\n",
    "    count = count + 1\n",
    "mean = total/count\n",
    "\n",
    "print(f\"Mean {mean}\")\n"
   ]
  },
  {
   "cell_type": "markdown",
   "metadata": {},
   "source": [
    "### median"
   ]
  },
  {
   "cell_type": "code",
   "execution_count": null,
   "metadata": {},
   "outputs": [],
   "source": [
    "salaries.sort()\n",
    "\n",
    "median_ind = int(count / 2)\n",
    "\n",
    "print(f\"Median = {salaries[median_ind]}\")\n"
   ]
  },
  {
   "cell_type": "markdown",
   "metadata": {},
   "source": [
    "### mode"
   ]
  },
  {
   "cell_type": "code",
   "execution_count": null,
   "metadata": {},
   "outputs": [],
   "source": [
    "from collections import Counter\n",
    "\n",
    "cnt = Counter(salaries)\n",
    "for i in cnt:\n",
    "    if cnt[i] > 1:\n",
    "        print(f\"{i}  Value = {cnt[i]}\")\n",
    "for mc in cnt.most_common(1):\n",
    "    print(f\"Salay => {mc[0]} \\t Count => {mc[1]}\")\n",
    "\n"
   ]
  },
  {
   "cell_type": "markdown",
   "metadata": {},
   "source": [
    "### sample variance\n",
    "Remember to use Bessel's correction."
   ]
  },
  {
   "cell_type": "code",
   "execution_count": null,
   "metadata": {},
   "outputs": [],
   "source": [
    "variance = 0\n",
    "for i in range(0, len(salaries), 1):\n",
    "    variance += (salaries[i]- mean) ** 2\n",
    "variance = variance / (len(salaries)-1)\n",
    "\n",
    "print(f\"Standard variance = {variance}\")\n",
    "\n",
    "variance = sum([(value - sum(salaries) / len(salaries)) ** 2 for value in salaries]) / (len(salaries)-1)\n",
    "\n",
    "print(f\"Standard variance = {variance}\")\n"
   ]
  },
  {
   "cell_type": "markdown",
   "metadata": {},
   "source": [
    "### sample standard deviation\n",
    "Remember to use Bessel's correction."
   ]
  },
  {
   "cell_type": "code",
   "execution_count": null,
   "metadata": {},
   "outputs": [],
   "source": [
    "import math\n",
    "std_dev = math.sqrt(variance)\n",
    "print(f\"Standard deviation => {std_dev}\")\n"
   ]
  },
  {
   "cell_type": "markdown",
   "metadata": {},
   "source": [
    "## Exercise 6: Calculating more statistics\n",
    "### range"
   ]
  },
  {
   "cell_type": "code",
   "execution_count": null,
   "metadata": {},
   "outputs": [],
   "source": [
    "print(f\"Range => {max(salaries) - min(salaries)}\")"
   ]
  },
  {
   "cell_type": "markdown",
   "metadata": {},
   "source": [
    "### coefficient of variation\n",
    "Make sure to use the sample standard deviation."
   ]
  },
  {
   "cell_type": "code",
   "execution_count": null,
   "metadata": {},
   "outputs": [],
   "source": [
    "\n",
    "print(f\"Coefficient of variation => {std_dev/mean}\")\n"
   ]
  },
  {
   "cell_type": "markdown",
   "metadata": {},
   "source": [
    "### interquartile range"
   ]
  },
  {
   "attachments": {},
   "cell_type": "markdown",
   "metadata": {},
   "source": [
    "In general, to find the p quantile, you would arrange the observations in ascending order and use the formula for percentile location to calculate the position where the p quantile would be located. If the percentile location is a whole number, the p quantile is the value at that position in the ordered list of observations. If the percentile location is not a whole number, the p quantile is calculated on pro-rata basis."
   ]
  },
  {
   "cell_type": "code",
   "execution_count": null,
   "metadata": {},
   "outputs": [],
   "source": [
    "def quantile(x, pct):\n",
    "    # x - sample list\n",
    "    # pct - percentile\n",
    "    x.sort()\n",
    "    index = (len(x) + 1) * pct - 1\n",
    "    if len(x) % 2:\n",
    "        return x[int(index)]\n",
    "    else:\n",
    "        # odd, so grab the value at index\n",
    "        return (x[math.floor(index)] + x[math.ceil(index)]) / 2\n",
    "    \n",
    "q1 = quantile(salaries,0.25)\n",
    "q3 = quantile(salaries,0.75)\n",
    "iqr = q3 - q1\n",
    "print(f\"Interquartile range => {iqr}\")"
   ]
  },
  {
   "cell_type": "markdown",
   "metadata": {},
   "source": [
    "### quartile coefficent of dispersion"
   ]
  },
  {
   "cell_type": "code",
   "execution_count": null,
   "metadata": {},
   "outputs": [],
   "source": [
    "q1 = quantile(salaries,0.25)\n",
    "q3 = quantile(salaries,0.75)\n",
    "qcd = (q3 - q1) / (q3 + q1)\n",
    "print(f\"Quartile coefficient => {qcd}\") "
   ]
  },
  {
   "cell_type": "markdown",
   "metadata": {},
   "source": [
    "## Exercise 7: Scaling data\n",
    "### min-max scaling"
   ]
  },
  {
   "cell_type": "code",
   "execution_count": null,
   "metadata": {},
   "outputs": [],
   "source": [
    "min, max = min(salaries), max(salaries)\n",
    "range = max - min\n",
    "min_max_scale = []\n",
    "for x in salaries:\n",
    "    min_max_scale.append((x - min) / range)\n",
    "min_max_scale[:3]"
   ]
  },
  {
   "cell_type": "markdown",
   "metadata": {},
   "source": [
    "### standardizing"
   ]
  },
  {
   "cell_type": "code",
   "execution_count": null,
   "metadata": {},
   "outputs": [],
   "source": [
    "std_scale = []\n",
    "\n",
    "for x in salaries:\n",
    "    std_scale.append((x - mean) / std_dev)\n",
    "std_scale[:3]"
   ]
  },
  {
   "cell_type": "markdown",
   "metadata": {},
   "source": [
    "## Exercise 8: Calculating covariance and correlation\n",
    "### covariance"
   ]
  },
  {
   "attachments": {},
   "cell_type": "markdown",
   "metadata": {},
   "source": [
    "Calculate the average value for each variable\n",
    "Find the difference between each value and the mean for both variables\n",
    "Multiply the values for the two variables\n",
    "Add the values together"
   ]
  },
  {
   "cell_type": "code",
   "execution_count": 21,
   "metadata": {},
   "outputs": [
    {
     "name": "stdout",
     "output_type": "stream",
     "text": [
      "0.2644912991825042\n"
     ]
    }
   ],
   "source": [
    "total1, total2 = 0, 0\n",
    "norm_dif = []\n",
    "std_dif = []\n",
    "for x in min_max_scale:\n",
    "    total1 = total1 + x\n",
    "for y in std_scale:\n",
    "    total2 = total2 + y\n",
    "\n",
    "norm_mean = total1 / len(min_max_scale)\n",
    "std_mean = total2 / len(std_scale)\n",
    "\n",
    "n_total=0\n",
    "for i, j in zip(min_max_scale, std_scale):\n",
    "    n_total = n_total + (i - norm_mean) * (j -std_mean)\n",
    "\n",
    "\n",
    "covriance = n_total / len(salaries)\n",
    "print(covriance)\n"
   ]
  },
  {
   "cell_type": "markdown",
   "metadata": {},
   "source": [
    "### Pearson correlation coefficient ($\\rho$)"
   ]
  },
  {
   "cell_type": "code",
   "execution_count": 22,
   "metadata": {},
   "outputs": [
    {
     "name": "stdout",
     "output_type": "stream",
     "text": [
      "Pearson correlation coefficient =>0.9900000000000003\n"
     ]
    }
   ],
   "source": [
    "norm_var = sum([(value - sum(min_max_scale) / len(min_max_scale)) ** 2 for value in min_max_scale]) / (len(min_max_scale)-1)\n",
    "std_var = sum([(value - sum(std_scale) / len(std_scale)) ** 2 for value in std_scale]) / (len(std_scale)-1)\n",
    "\n",
    "norm_var_std_dev = math.sqrt(norm_var)\n",
    "std_var_std_dev = math.sqrt(std_var)\n",
    "\n",
    "Pcc = covriance/(norm_var_std_dev*std_var_std_dev)\n",
    "print(f\"Pearson correlation coefficient => {Pcc}\")"
   ]
  },
  {
   "cell_type": "markdown",
   "metadata": {},
   "source": [
    "<hr>\n",
    "<div style=\"overflow: hidden; margin-bottom: 10px;\">\n",
    "    <div style=\"float: left;\">\n",
    "        <a href=\"./python_101.ipynb\">\n",
    "            <button>Python 101</button>\n",
    "        </a>\n",
    "    </div>\n",
    "    <div style=\"float: right;\">\n",
    "        <a href=\"../../solutions/ch_01/solutions.ipynb\">\n",
    "            <button>Solutions</button>\n",
    "        </a>\n",
    "        <a href=\"../ch_02/1-pandas_data_structures.ipynb\">\n",
    "            <button>Chapter 2 &#8594;</button>\n",
    "        </a>\n",
    "    </div>\n",
    "</div>\n",
    "<hr>"
   ]
  }
 ],
 "metadata": {
  "kernelspec": {
   "display_name": "Python 3",
   "language": "python",
   "name": "python3"
  },
  "language_info": {
   "codemirror_mode": {
    "name": "ipython",
    "version": 3
   },
   "file_extension": ".py",
   "mimetype": "text/x-python",
   "name": "python",
   "nbconvert_exporter": "python",
   "pygments_lexer": "ipython3",
   "version": "3.9.13"
  }
 },
 "nbformat": 4,
 "nbformat_minor": 4
}
