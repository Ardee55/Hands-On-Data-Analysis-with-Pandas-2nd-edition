{
 "cells": [
  {
   "attachments": {},
   "cell_type": "markdown",
   "metadata": {},
   "source": [
    "# Setup\n"
   ]
  },
  {
   "cell_type": "code",
   "execution_count": null,
   "metadata": {},
   "outputs": [],
   "source": [
    "import datetime as dt\n",
    "import numpy as np\n",
    "import pandas as pd\n",
    "\n",
    "df = pd.read_csv('../ch_02/data/parsed.csv')\n",
    "df.head()"
   ]
  },
  {
   "attachments": {},
   "cell_type": "markdown",
   "metadata": {},
   "source": [
    "# Task 1"
   ]
  },
  {
   "cell_type": "code",
   "execution_count": null,
   "metadata": {},
   "outputs": [],
   "source": [
    "df[(df.parsed_place == 'Japan') & (df.magType == 'mb')].mag.quantile(0.95)\n"
   ]
  },
  {
   "attachments": {},
   "cell_type": "markdown",
   "metadata": {},
   "source": [
    "# Task 2\n",
    "a) Create subset where parsed_place is Indonesia\n",
    "\n",
    "b) Create subset where parsed_place is Indonesia & a tsunami occured\n",
    "\n",
    "c) Do the calculation and display as % to 2 decimal places\n"
   ]
  },
  {
   "cell_type": "code",
   "execution_count": null,
   "metadata": {},
   "outputs": [],
   "source": [
    "# Book Solution\n",
    "# f\"{df[df.parsed_place == 'Indonesia'].tsunami.value_counts(normalize=True).iloc[1,]:.2%}\"\n",
    "# normalize = True => returns value_counts as proportions\n",
    "idf = df[(df.parsed_place == 'Indonesia')]\n",
    "nidf = df[(df.parsed_place == 'Indonesia') & (df.tsunami == 1)]\n",
    "print(f\"With tsunami in Indonesia => {len(nidf)/len(idf):.2%}\")\n"
   ]
  },
  {
   "attachments": {},
   "cell_type": "markdown",
   "metadata": {},
   "source": [
    "# Task 3\n",
    "\n",
    "a) Create subset where parsed_place is Nevada\n",
    "\n",
    "b) Use describe to get summary statistics\n"
   ]
  },
  {
   "cell_type": "code",
   "execution_count": null,
   "metadata": {},
   "outputs": [],
   "source": [
    "# Book Solution\n",
    "# df[(df.parsed_place == 'Nevada')].describe()\n",
    "nevadadf = df[(df.parsed_place == 'Nevada')]\n",
    "nevadadf.describe()"
   ]
  },
  {
   "attachments": {},
   "cell_type": "markdown",
   "metadata": {},
   "source": [
    "# Task 4\n",
    "\n",
    "a) Create a list with states & countries in 'Ring of Fire'\n",
    "\n",
    "b) Use (a) to create string of countries with | seperator ( or in test)\n",
    "\n",
    "c) Add column ring_of_fire \n"
   ]
  },
  {
   "cell_type": "code",
   "execution_count": null,
   "metadata": {},
   "outputs": [],
   "source": [
    "r_off_fire = [\n",
    "    'Alaska', 'Antarctic', 'Bolivia', 'California', 'Canada', 'Chile', 'Costa Rica', 'Ecuador', 'Fiji', 'Guatemala',\n",
    "    'Indonesia', 'Japan', 'Kermadec Islands', '^Mexico', 'New Zealand', 'Peru', 'Philippines', 'Russia',\n",
    "    'Taiwan', 'Tonga', 'Washington' \n",
    "]\n",
    "res = \"|\".join(r_off_fire)\n",
    "df['ring_of_fire'] = (df.parsed_place).str.contains(res)\n",
    "\n",
    "df.ring_of_fire.count()\n"
   ]
  },
  {
   "attachments": {},
   "cell_type": "markdown",
   "metadata": {},
   "source": [
    "# Task 5\n",
    "\n",
    "a) Use value_counts on ring_of_fire column"
   ]
  },
  {
   "cell_type": "code",
   "execution_count": null,
   "metadata": {},
   "outputs": [],
   "source": [
    "df.ring_of_fire.value_counts()"
   ]
  },
  {
   "attachments": {},
   "cell_type": "markdown",
   "metadata": {},
   "source": [
    "# Task 6\n",
    "\n",
    "a) Count rows returned when tsunami is True and ring_of_fire is True"
   ]
  },
  {
   "cell_type": "code",
   "execution_count": 97,
   "metadata": {},
   "outputs": [
    {
     "data": {
      "text/plain": [
       "45"
      ]
     },
     "execution_count": 97,
     "metadata": {},
     "output_type": "execute_result"
    }
   ],
   "source": [
    "# Book solution\n",
    "# df.loc[df.ring_of_fire, 'tsunami'].sum()\n",
    "df[df.ring_of_fire].tsunami.value_counts()[1]\n",
    "# or\n",
    "#df[df.ring_of_fire].tsunami.sum()\n"
   ]
  }
 ],
 "metadata": {
  "kernelspec": {
   "display_name": "Python 3",
   "language": "python",
   "name": "python3"
  },
  "language_info": {
   "codemirror_mode": {
    "name": "ipython",
    "version": 3
   },
   "file_extension": ".py",
   "mimetype": "text/x-python",
   "name": "python",
   "nbconvert_exporter": "python",
   "pygments_lexer": "ipython3",
   "version": "3.9.13"
  },
  "orig_nbformat": 4
 },
 "nbformat": 4,
 "nbformat_minor": 2
}
