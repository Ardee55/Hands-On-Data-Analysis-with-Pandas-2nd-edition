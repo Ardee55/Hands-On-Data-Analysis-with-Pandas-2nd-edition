{
 "cells": [
  {
   "attachments": {},
   "cell_type": "markdown",
   "metadata": {},
   "source": [
    "# Setup"
   ]
  },
  {
   "cell_type": "code",
   "execution_count": 1,
   "metadata": {},
   "outputs": [],
   "source": [
    "import numpy as np\n",
    "import pandas as pd"
   ]
  },
  {
   "attachments": {},
   "cell_type": "markdown",
   "metadata": {},
   "source": [
    "Read in earthquake.csv"
   ]
  },
  {
   "cell_type": "code",
   "execution_count": 2,
   "metadata": {},
   "outputs": [],
   "source": [
    "earthquakes = pd.read_csv('../ch_04/exercises/earthquakes.csv')\n",
    "faang = pd.read_csv('../ch_04/exercises/faang.csv', index_col='date', parse_dates=True)\n"
   ]
  },
  {
   "attachments": {},
   "cell_type": "markdown",
   "metadata": {},
   "source": [
    "# Task\n",
    "1. Select eathquake in Japan with magnitude 4.9 or greater and type mb"
   ]
  },
  {
   "cell_type": "code",
   "execution_count": null,
   "metadata": {},
   "outputs": [],
   "source": [
    "earthquakes.query(\"magType == 'mb' and parsed_place == 'Japan' and mag >= 4.9\")[['mag', 'magType', 'place', 'parsed_place']]"
   ]
  },
  {
   "attachments": {},
   "cell_type": "markdown",
   "metadata": {},
   "source": [
    "2. Create bins (0,1], (1,2] etc for magnitude type ml and count how many are in each bin."
   ]
  },
  {
   "cell_type": "code",
   "execution_count": null,
   "metadata": {},
   "outputs": [],
   "source": [
    "earthquakes.query(\"magType == 'ml'\").assign(\n",
    "    mag_bin=lambda x: pd.cut(x.mag, np.arange(0, 10))\n",
    ").mag_bin.value_counts().sort_index()"
   ]
  },
  {
   "attachments": {},
   "cell_type": "markdown",
   "metadata": {},
   "source": [
    "3. Using faang.csv group by ticker and resample to monthly frequency."
   ]
  },
  {
   "cell_type": "code",
   "execution_count": null,
   "metadata": {},
   "outputs": [],
   "source": [
    "faang.groupby('ticker').resample('1M').agg(\n",
    "    {\n",
    "    'open' : np.mean,\n",
    "    'high' : np.max,\n",
    "    'low' : np.min,\n",
    "    'close' : np.mean,\n",
    "    'volume' : np.sum\n",
    "    }\n",
    ")"
   ]
  },
  {
   "attachments": {},
   "cell_type": "markdown",
   "metadata": {},
   "source": [
    "4. Build a crosstab with earthquake data between *tsunami* and *magType* column, show max magnitude per column"
   ]
  },
  {
   "cell_type": "code",
   "execution_count": null,
   "metadata": {},
   "outputs": [],
   "source": [
    "pd.crosstab(earthquakes.tsunami, earthquakes.magType, values=earthquakes.mag, aggfunc='max')"
   ]
  },
  {
   "attachments": {},
   "cell_type": "markdown",
   "metadata": {},
   "source": [
    "5. Calculate rolling 60-day aggregations of the OHLC data by ticker for FAANG data."
   ]
  },
  {
   "cell_type": "code",
   "execution_count": null,
   "metadata": {},
   "outputs": [],
   "source": [
    "faang.groupby('ticker').rolling('60D').agg(\n",
    "    {\n",
    "    'open' : np.mean,\n",
    "    'high' : np.max,\n",
    "    'low' : np.min,\n",
    "    'close' : np.mean,\n",
    "    'volume' : np.sum\n",
    "    }\n",
    ")"
   ]
  },
  {
   "attachments": {},
   "cell_type": "markdown",
   "metadata": {},
   "source": [
    "6. Create a pivot table with the FAANG data."
   ]
  },
  {
   "cell_type": "code",
   "execution_count": null,
   "metadata": {},
   "outputs": [],
   "source": [
    "faang.pivot_table(index='ticker', aggfunc='mean')"
   ]
  },
  {
   "attachments": {},
   "cell_type": "markdown",
   "metadata": {},
   "source": [
    "7. Calculate Z-scores for Amazon data in Q4 of 2018 using *apply( )*"
   ]
  },
  {
   "cell_type": "code",
   "execution_count": null,
   "metadata": {},
   "outputs": [],
   "source": [
    "faang_Q4 = faang.loc['2018-Q4'] # Get 2018 Q4 data\n",
    "faang_Q4.query(\"ticker == 'AMZN'\").drop(columns='ticker').apply(lambda x: x.sub(x.mean()).div(x.std()))"
   ]
  },
  {
   "attachments": {},
   "cell_type": "markdown",
   "metadata": {},
   "source": [
    "8. Add event descriptions"
   ]
  },
  {
   "attachments": {},
   "cell_type": "markdown",
   "metadata": {},
   "source": [
    "- Create dataframe with appropriate ticker, dates and event descriptions"
   ]
  },
  {
   "cell_type": "code",
   "execution_count": null,
   "metadata": {},
   "outputs": [],
   "source": [
    "faang_event = pd.DataFrame(\n",
    "    {\n",
    "        'ticker' : 'FB',\n",
    "        'date' : pd.to_datetime(['2018-07-25', '2018-03-19', '2018-03-20']),\n",
    "        'event' : ['Disapointing user growth announced after close.', 'Cambridge Analytics story', 'FTC investigation']\n",
    "    }\n",
    ").set_index(['date', 'ticker'])\n"
   ]
  },
  {
   "attachments": {},
   "cell_type": "markdown",
   "metadata": {},
   "source": [
    "- Merge with FAANG date using outer join"
   ]
  },
  {
   "cell_type": "code",
   "execution_count": null,
   "metadata": {},
   "outputs": [],
   "source": [
    "events = faang.reset_index().set_index(['date', 'ticker']).join(faang_event, how='outer')"
   ]
  },
  {
   "attachments": {},
   "cell_type": "markdown",
   "metadata": {},
   "source": [
    "- Check it worked"
   ]
  },
  {
   "cell_type": "code",
   "execution_count": null,
   "metadata": {},
   "outputs": [],
   "source": [
    "events.query(\"ticker =='FB' and date > '2018-03-18' and date < '2018-07-26'\")"
   ]
  },
  {
   "attachments": {},
   "cell_type": "markdown",
   "metadata": {},
   "source": [
    "9. Use *transform( )* method"
   ]
  },
  {
   "cell_type": "code",
   "execution_count": null,
   "metadata": {},
   "outputs": [],
   "source": [
    "faang = faang.reset_index().set_index(['ticker', 'date'])\n",
    "faang_index = (faang / faang.groupby(level='ticker').transform('first'))\n",
    "\n",
    "faang_index.groupby(level='ticker').head()"
   ]
  },
  {
   "attachments": {},
   "cell_type": "markdown",
   "metadata": {},
   "source": [
    "10. European Centre for Disease Prevention and Control (ECDC) snapshot of data through September 18 2020"
   ]
  },
  {
   "attachments": {},
   "cell_type": "markdown",
   "metadata": {},
   "source": [
    "* Part 1\n",
    "    - Read the data\n",
    "    - Tidy up dateRep to datetime format and set as index\n",
    "    - Replace United_States_of_America with USA\n",
    "    - Replace United_Kingdom with UK"
   ]
  },
  {
   "cell_type": "code",
   "execution_count": 2,
   "metadata": {},
   "outputs": [
    {
     "data": {
      "text/html": [
       "<div>\n",
       "<style scoped>\n",
       "    .dataframe tbody tr th:only-of-type {\n",
       "        vertical-align: middle;\n",
       "    }\n",
       "\n",
       "    .dataframe tbody tr th {\n",
       "        vertical-align: top;\n",
       "    }\n",
       "\n",
       "    .dataframe thead th {\n",
       "        text-align: right;\n",
       "    }\n",
       "</style>\n",
       "<table border=\"1\" class=\"dataframe\">\n",
       "  <thead>\n",
       "    <tr style=\"text-align: right;\">\n",
       "      <th></th>\n",
       "      <th>dateRep</th>\n",
       "      <th>day</th>\n",
       "      <th>month</th>\n",
       "      <th>year</th>\n",
       "      <th>cases</th>\n",
       "      <th>deaths</th>\n",
       "      <th>countriesAndTerritories</th>\n",
       "      <th>geoId</th>\n",
       "      <th>countryterritoryCode</th>\n",
       "      <th>popData2019</th>\n",
       "      <th>continentExp</th>\n",
       "      <th>Cumulative_number_for_14_days_of_COVID-19_cases_per_100000</th>\n",
       "    </tr>\n",
       "    <tr>\n",
       "      <th>date</th>\n",
       "      <th></th>\n",
       "      <th></th>\n",
       "      <th></th>\n",
       "      <th></th>\n",
       "      <th></th>\n",
       "      <th></th>\n",
       "      <th></th>\n",
       "      <th></th>\n",
       "      <th></th>\n",
       "      <th></th>\n",
       "      <th></th>\n",
       "      <th></th>\n",
       "    </tr>\n",
       "  </thead>\n",
       "  <tbody>\n",
       "    <tr>\n",
       "      <th>2019-12-31</th>\n",
       "      <td>31/12/2019</td>\n",
       "      <td>31</td>\n",
       "      <td>12</td>\n",
       "      <td>2019</td>\n",
       "      <td>0</td>\n",
       "      <td>0</td>\n",
       "      <td>Belgium</td>\n",
       "      <td>BE</td>\n",
       "      <td>BEL</td>\n",
       "      <td>11455519.0</td>\n",
       "      <td>Europe</td>\n",
       "      <td>NaN</td>\n",
       "    </tr>\n",
       "    <tr>\n",
       "      <th>2019-12-31</th>\n",
       "      <td>31/12/2019</td>\n",
       "      <td>31</td>\n",
       "      <td>12</td>\n",
       "      <td>2019</td>\n",
       "      <td>0</td>\n",
       "      <td>0</td>\n",
       "      <td>Mexico</td>\n",
       "      <td>MX</td>\n",
       "      <td>MEX</td>\n",
       "      <td>127575529.0</td>\n",
       "      <td>America</td>\n",
       "      <td>NaN</td>\n",
       "    </tr>\n",
       "    <tr>\n",
       "      <th>2019-12-31</th>\n",
       "      <td>31/12/2019</td>\n",
       "      <td>31</td>\n",
       "      <td>12</td>\n",
       "      <td>2019</td>\n",
       "      <td>0</td>\n",
       "      <td>0</td>\n",
       "      <td>Ecuador</td>\n",
       "      <td>EC</td>\n",
       "      <td>ECU</td>\n",
       "      <td>17373657.0</td>\n",
       "      <td>America</td>\n",
       "      <td>NaN</td>\n",
       "    </tr>\n",
       "    <tr>\n",
       "      <th>2019-12-31</th>\n",
       "      <td>31/12/2019</td>\n",
       "      <td>31</td>\n",
       "      <td>12</td>\n",
       "      <td>2019</td>\n",
       "      <td>0</td>\n",
       "      <td>0</td>\n",
       "      <td>Russia</td>\n",
       "      <td>RU</td>\n",
       "      <td>RUS</td>\n",
       "      <td>145872260.0</td>\n",
       "      <td>Europe</td>\n",
       "      <td>NaN</td>\n",
       "    </tr>\n",
       "    <tr>\n",
       "      <th>2019-12-31</th>\n",
       "      <td>31/12/2019</td>\n",
       "      <td>31</td>\n",
       "      <td>12</td>\n",
       "      <td>2019</td>\n",
       "      <td>0</td>\n",
       "      <td>0</td>\n",
       "      <td>Netherlands</td>\n",
       "      <td>NL</td>\n",
       "      <td>NLD</td>\n",
       "      <td>17282163.0</td>\n",
       "      <td>Europe</td>\n",
       "      <td>NaN</td>\n",
       "    </tr>\n",
       "  </tbody>\n",
       "</table>\n",
       "</div>"
      ],
      "text/plain": [
       "               dateRep  day  month  year  cases  deaths  \\\n",
       "date                                                      \n",
       "2019-12-31  31/12/2019   31     12  2019      0       0   \n",
       "2019-12-31  31/12/2019   31     12  2019      0       0   \n",
       "2019-12-31  31/12/2019   31     12  2019      0       0   \n",
       "2019-12-31  31/12/2019   31     12  2019      0       0   \n",
       "2019-12-31  31/12/2019   31     12  2019      0       0   \n",
       "\n",
       "           countriesAndTerritories geoId countryterritoryCode  popData2019  \\\n",
       "date                                                                         \n",
       "2019-12-31                 Belgium    BE                  BEL   11455519.0   \n",
       "2019-12-31                  Mexico    MX                  MEX  127575529.0   \n",
       "2019-12-31                 Ecuador    EC                  ECU   17373657.0   \n",
       "2019-12-31                  Russia    RU                  RUS  145872260.0   \n",
       "2019-12-31             Netherlands    NL                  NLD   17282163.0   \n",
       "\n",
       "           continentExp  \\\n",
       "date                      \n",
       "2019-12-31       Europe   \n",
       "2019-12-31      America   \n",
       "2019-12-31      America   \n",
       "2019-12-31       Europe   \n",
       "2019-12-31       Europe   \n",
       "\n",
       "            Cumulative_number_for_14_days_of_COVID-19_cases_per_100000  \n",
       "date                                                                    \n",
       "2019-12-31                                                NaN           \n",
       "2019-12-31                                                NaN           \n",
       "2019-12-31                                                NaN           \n",
       "2019-12-31                                                NaN           \n",
       "2019-12-31                                                NaN           "
      ]
     },
     "execution_count": 2,
     "metadata": {},
     "output_type": "execute_result"
    }
   ],
   "source": [
    "covid19 = pd.read_csv('../ch_04/exercises/covid19_cases.csv')\\\n",
    "    .assign(date=lambda x: pd.to_datetime(x.dateRep, format='%d/%m/%Y'))\\\n",
    "    .set_index('date')\\\n",
    "    .replace('United_States_of_America', 'USA')\\\n",
    "    .replace('United_Kingdom', 'UK')\\\n",
    "    .sort_index()\n",
    "covid19.head()"
   ]
  },
  {
   "attachments": {},
   "cell_type": "markdown",
   "metadata": {},
   "source": [
    "* Part 2\n",
    "    - Create an index of top 5 countries based on cases\n",
    "    - Get the index of the date where max cases for each country"
   ]
  },
  {
   "cell_type": "code",
   "execution_count": 10,
   "metadata": {},
   "outputs": [
    {
     "data": {
      "text/plain": [
       "countriesAndTerritories\n",
       "Brazil   2020-07-30\n",
       "India    2020-09-17\n",
       "Peru     2020-08-17\n",
       "Russia   2020-07-18\n",
       "USA      2020-07-25\n",
       "Name: cases, dtype: datetime64[ns]"
      ]
     },
     "execution_count": 10,
     "metadata": {},
     "output_type": "execute_result"
    }
   ],
   "source": [
    "top_5_countries = covid19.groupby('countriesAndTerritories').cases.sum().nlargest(5).index\n",
    "covid19[covid19.countriesAndTerritories.isin(top_5_countries)]\\\n",
    "    .groupby('countriesAndTerritories').cases.idxmax()"
   ]
  },
  {
   "attachments": {},
   "cell_type": "markdown",
   "metadata": {},
   "source": [
    "* Part 3\n",
    "    - Find the 7-day average change in COVID-19 cases for the last week in the data for the countries found in part 2"
   ]
  },
  {
   "cell_type": "code",
   "execution_count": 18,
   "metadata": {},
   "outputs": [
    {
     "data": {
      "text/html": [
       "<div>\n",
       "<style scoped>\n",
       "    .dataframe tbody tr th:only-of-type {\n",
       "        vertical-align: middle;\n",
       "    }\n",
       "\n",
       "    .dataframe tbody tr th {\n",
       "        vertical-align: top;\n",
       "    }\n",
       "\n",
       "    .dataframe thead th {\n",
       "        text-align: right;\n",
       "    }\n",
       "</style>\n",
       "<table border=\"1\" class=\"dataframe\">\n",
       "  <thead>\n",
       "    <tr style=\"text-align: right;\">\n",
       "      <th>countriesAndTerritories</th>\n",
       "      <th>USA</th>\n",
       "      <th>India</th>\n",
       "      <th>Brazil</th>\n",
       "      <th>Russia</th>\n",
       "      <th>Peru</th>\n",
       "    </tr>\n",
       "    <tr>\n",
       "      <th>date</th>\n",
       "      <th></th>\n",
       "      <th></th>\n",
       "      <th></th>\n",
       "      <th></th>\n",
       "      <th></th>\n",
       "    </tr>\n",
       "  </thead>\n",
       "  <tbody>\n",
       "    <tr>\n",
       "      <th>2020-09-14</th>\n",
       "      <td>473.714286</td>\n",
       "      <td>181.285714</td>\n",
       "      <td>35.285714</td>\n",
       "      <td>36.285714</td>\n",
       "      <td>73.142857</td>\n",
       "    </tr>\n",
       "    <tr>\n",
       "      <th>2020-09-15</th>\n",
       "      <td>1513.000000</td>\n",
       "      <td>1142.857143</td>\n",
       "      <td>697.428571</td>\n",
       "      <td>46.285714</td>\n",
       "      <td>377.571429</td>\n",
       "    </tr>\n",
       "    <tr>\n",
       "      <th>2020-09-16</th>\n",
       "      <td>3478.714286</td>\n",
       "      <td>59.571429</td>\n",
       "      <td>3196.285714</td>\n",
       "      <td>61.428571</td>\n",
       "      <td>-65.000000</td>\n",
       "    </tr>\n",
       "    <tr>\n",
       "      <th>2020-09-17</th>\n",
       "      <td>-1047.000000</td>\n",
       "      <td>308.428571</td>\n",
       "      <td>143.428571</td>\n",
       "      <td>810.000000</td>\n",
       "      <td>-29.428571</td>\n",
       "    </tr>\n",
       "    <tr>\n",
       "      <th>2020-09-18</th>\n",
       "      <td>865.714286</td>\n",
       "      <td>-18.142857</td>\n",
       "      <td>-607.714286</td>\n",
       "      <td>-688.428571</td>\n",
       "      <td>-227.571429</td>\n",
       "    </tr>\n",
       "    <tr>\n",
       "      <th>2020-09-19</th>\n",
       "      <td>306.857143</td>\n",
       "      <td>-604.714286</td>\n",
       "      <td>-560.142857</td>\n",
       "      <td>57.285714</td>\n",
       "      <td>-41.285714</td>\n",
       "    </tr>\n",
       "  </tbody>\n",
       "</table>\n",
       "</div>"
      ],
      "text/plain": [
       "countriesAndTerritories          USA        India       Brazil      Russia  \\\n",
       "date                                                                         \n",
       "2020-09-14                473.714286   181.285714    35.285714   36.285714   \n",
       "2020-09-15               1513.000000  1142.857143   697.428571   46.285714   \n",
       "2020-09-16               3478.714286    59.571429  3196.285714   61.428571   \n",
       "2020-09-17              -1047.000000   308.428571   143.428571  810.000000   \n",
       "2020-09-18                865.714286   -18.142857  -607.714286 -688.428571   \n",
       "2020-09-19                306.857143  -604.714286  -560.142857   57.285714   \n",
       "\n",
       "countriesAndTerritories        Peru  \n",
       "date                                 \n",
       "2020-09-14                73.142857  \n",
       "2020-09-15               377.571429  \n",
       "2020-09-16               -65.000000  \n",
       "2020-09-17               -29.428571  \n",
       "2020-09-18              -227.571429  \n",
       "2020-09-19               -41.285714  "
      ]
     },
     "execution_count": 18,
     "metadata": {},
     "output_type": "execute_result"
    }
   ],
   "source": [
    "covid19.groupby(['countriesAndTerritories', pd.Grouper(freq='1D')]).cases.sum()\\\n",
    "    .unstack(0).diff().rolling(7).mean().last('1W')[top_5_countries]\n",
    "\n"
   ]
  },
  {
   "attachments": {},
   "cell_type": "markdown",
   "metadata": {},
   "source": [
    "* Part 4\n",
    "    - Find the first date that each country, other than China, had cases"
   ]
  },
  {
   "cell_type": "code",
   "execution_count": 31,
   "metadata": {},
   "outputs": [
    {
     "data": {
      "text/plain": [
       "countriesAndTerritories\n",
       "Thailand         2020-01-13\n",
       "Japan            2020-01-15\n",
       "South Korea      2020-01-20\n",
       "Taiwan           2020-01-21\n",
       "USA              2020-01-21\n",
       "                    ...    \n",
       "Yemen            2020-04-10\n",
       "Western Sahara   2020-04-26\n",
       "Tajikistan       2020-05-01\n",
       "Comoros          2020-05-02\n",
       "Lesotho          2020-05-15\n",
       "Length: 209, dtype: datetime64[ns]"
      ]
     },
     "execution_count": 31,
     "metadata": {},
     "output_type": "execute_result"
    }
   ],
   "source": [
    "covid19.pivot(columns='countriesAndTerritories', values='cases')\\\n",
    "    .drop(columns='China')\\\n",
    "    .apply(lambda x: x[x > 0].index.min())\\\n",
    "    .sort_values()\\\n",
    "    .rename(lambda x: x.replace('_', ' '))"
   ]
  }
 ],
 "metadata": {
  "kernelspec": {
   "display_name": "Python 3",
   "language": "python",
   "name": "python3"
  },
  "language_info": {
   "codemirror_mode": {
    "name": "ipython",
    "version": 3
   },
   "file_extension": ".py",
   "mimetype": "text/x-python",
   "name": "python",
   "nbconvert_exporter": "python",
   "pygments_lexer": "ipython3",
   "version": "3.9.-1"
  },
  "orig_nbformat": 4
 },
 "nbformat": 4,
 "nbformat_minor": 2
}
